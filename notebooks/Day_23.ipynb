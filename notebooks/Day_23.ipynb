{
 "metadata": {
  "name": "Day_23"
 },
 "nbformat": 3,
 "nbformat_minor": 0,
 "worksheets": [
  {
   "cells": [
    {
     "cell_type": "code",
     "collapsed": false,
     "input": [
      "from wwod import common_crawl\n",
      "reload(common_crawl)"
     ],
     "language": "python",
     "metadata": {},
     "outputs": [
      {
       "output_type": "pyout",
       "prompt_number": 1,
       "text": [
        "<module 'wwod.common_crawl' from 'wwod/common_crawl.pyc'>"
       ]
      }
     ],
     "prompt_number": 1
    },
    {
     "cell_type": "code",
     "collapsed": false,
     "input": [
      "valid_segments = common_crawl.valid_segments()"
     ],
     "language": "python",
     "metadata": {},
     "outputs": [],
     "prompt_number": 2
    },
    {
     "cell_type": "heading",
     "level": 1,
     "metadata": {},
     "source": [
      "Run jobs"
     ]
    },
    {
     "cell_type": "code",
     "collapsed": false,
     "input": [
      "jids = common_crawl.run_jobs(valid_segments, local=False)"
     ],
     "language": "python",
     "metadata": {},
     "outputs": [],
     "prompt_number": 10
    },
    {
     "cell_type": "code",
     "collapsed": false,
     "input": [
      "jids"
     ],
     "language": "python",
     "metadata": {},
     "outputs": [
      {
       "output_type": "pyout",
       "prompt_number": 11,
       "text": [
        "xrange(2143, 2320)"
       ]
      }
     ],
     "prompt_number": 11
    },
    {
     "cell_type": "code",
     "collapsed": false,
     "input": [
      "common_crawl.print_iresults(jids,local=False)"
     ],
     "language": "python",
     "metadata": {},
     "outputs": [
      {
       "output_type": "stream",
       "stream": "stdout",
       "text": [
        "0 967409519222\n",
        "1"
       ]
      },
      {
       "output_type": "stream",
       "stream": "stdout",
       "text": [
        " 3553203682764\n",
        "2 3820954411597\n",
        "3 4029974708066\n",
        "4 4938023527469\n",
        "5 6380060821398\n",
        "6 7315551291172\n",
        "7 8334659708028\n",
        "8 9187150699597\n",
        "9"
       ]
      },
      {
       "output_type": "stream",
       "stream": "stdout",
       "text": [
        " 11896043186281\n",
        "10 13246916964401\n",
        "11 13631424495444\n",
        "12 14552849094730\n",
        "13 15763174860108\n",
        "14 16792378536403\n",
        "15 17908079183527\n",
        "16 18687986010390\n",
        "17 19687744362335\n",
        "18 20473269448488\n",
        "19"
       ]
      },
      {
       "output_type": "stream",
       "stream": "stdout",
       "text": [
        " 21703240961143\n",
        "20 22309169351458\n",
        "21 23298934201330\n",
        "22 25966145601312\n",
        "23 27646931258933\n",
        "24 30150302592003\n",
        "25"
       ]
      },
      {
       "output_type": "stream",
       "stream": "stdout",
       "text": [
        " 32899405077684\n",
        "26 34824837406778\n",
        "27 36305658641145\n",
        "28 38413069044828\n",
        "29 39474839617312\n",
        "30 40378846349842\n",
        "31 41311134689724\n",
        "32 42166812307925\n",
        "33 43243896348334\n",
        "34 44393423324102\n",
        "35"
       ]
      },
      {
       "output_type": "stream",
       "stream": "stdout",
       "text": [
        " 44881325004723\n",
        "36 45437469541448\n",
        "37 46600817536866\n",
        "38 47257528037624\n",
        "39 48236801055067\n",
        "40 49126078679164\n",
        "41 50074359855347\n",
        "42"
       ]
      },
      {
       "output_type": "stream",
       "stream": "stdout",
       "text": [
        " 52421877984584\n",
        "43 53191394123130\n",
        "44 53587646117654\n",
        "45 54407568590805\n",
        "46 55635338515638\n",
        "47 56940072470679\n",
        "48 58647521873731\n",
        "49 59019879634240\n",
        "50 59840956881260\n",
        "51 60950777222782\n",
        "52"
       ]
      },
      {
       "output_type": "stream",
       "stream": "stdout",
       "text": [
        " 62426055563924\n",
        "53 63432768843301\n",
        "54 64087753572980\n",
        "55 64948840594427\n",
        "56 64993772524195\n",
        "57 65049903329490\n",
        "58 65107642958459\n",
        "59 65155629215137\n",
        "60 65189010571432\n",
        "61 65245327260222\n",
        "62"
       ]
      },
      {
       "output_type": "stream",
       "stream": "stdout",
       "text": [
        " 65300894860127\n",
        "63 65357528919644\n",
        "64 65413280968973\n",
        "65 65468946001606\n",
        "66 65516134166545\n",
        "67 65546030637997\n",
        "68 65566085292522\n",
        "69 65592895948031\n",
        "70 65651682131318\n",
        "71 65708766433391\n",
        "72"
       ]
      },
      {
       "output_type": "stream",
       "stream": "stdout",
       "text": [
        " 65764282761683\n",
        "73 65818061576506\n",
        "74 65871826478215\n",
        "75 65922021410922\n",
        "76 65951294327983\n",
        "77 65981514305027\n",
        "78 66014100565148\n",
        "79 66045390567503\n",
        "80 66100227420131\n",
        "81 66155211409152\n",
        "82"
       ]
      },
      {
       "output_type": "stream",
       "stream": "stdout",
       "text": [
        " 66210522886965\n",
        "83 66265384445983\n",
        "84 66315938484916\n",
        "85 66347090805261\n",
        "86 66376322305136\n",
        "87 66403565894545\n",
        "88 66441935397566\n",
        "89 66500205895008\n",
        "90 66557385159877\n",
        "91 66615604279942\n",
        "92"
       ]
      },
      {
       "output_type": "stream",
       "stream": "stdout",
       "text": [
        " 66673123534852\n",
        "93 66730435775699\n",
        "94 66788598764403\n",
        "95 66846231689611\n",
        "96 66899638179359\n",
        "97 66953250132531\n",
        "98 67008458035944\n",
        "99 67063620666288\n",
        "100 67119441760857\n",
        "101 67174714098931\n",
        "102"
       ]
      },
      {
       "output_type": "stream",
       "stream": "stdout",
       "text": [
        " 67229485648427\n",
        "103 67285429023650\n",
        "104 67341182493562\n",
        "105 67394715773406\n",
        "106 67450388470442\n",
        "107 67506579324518\n",
        "108 67563202716872\n",
        "109 67619164740435\n",
        "110 67673686039454\n",
        "111 67727144313179\n",
        "112"
       ]
      },
      {
       "output_type": "stream",
       "stream": "stdout",
       "text": [
        " 67782946305396\n",
        "113 67839313951652\n",
        "114 67895744716941\n",
        "115 67951630598755\n",
        "116 68003963040374\n",
        "117 68060302836609\n",
        "118 68116998096389\n",
        "119 68172627665624\n",
        "120 68228752479508\n",
        "121 68285076646511\n",
        "122"
       ]
      },
      {
       "output_type": "stream",
       "stream": "stdout",
       "text": [
        " 68329327651313\n",
        "123 68378420697174\n",
        "124 68434859137325\n",
        "125 68490152728193\n",
        "126 68544678871135\n",
        "127 68600886597908\n",
        "128 68657000938195\n",
        "129 68713818967443\n",
        "130 68768956966210\n",
        "131 68822398420466\n",
        "132"
       ]
      },
      {
       "output_type": "stream",
       "stream": "stdout",
       "text": [
        " 68877107765261\n",
        "133 68932377655373\n",
        "134 68987268920833\n",
        "135 69024953430220\n",
        "136 69069102319415\n",
        "137 69125633967258\n",
        "138 69181773768234\n",
        "139 69237958470847\n",
        "140 69294250936591\n",
        "141 69345949012163\n",
        "142"
       ]
      },
      {
       "output_type": "stream",
       "stream": "stdout",
       "text": [
        " 69401728459428\n",
        "143 69458122391478\n",
        "144 69514738676565\n",
        "145 69570842996541\n",
        "146 69626665474111\n",
        "147 69682124503218\n",
        "148 69725238149318\n",
        "149 69783223611693\n",
        "150 69822505395198\n",
        "151 69869478614916\n",
        "152"
       ]
      },
      {
       "output_type": "stream",
       "stream": "stdout",
       "text": [
        " 69925791407855\n",
        "153 69980593433946\n",
        "154 70016563055463\n",
        "155 70064767551174\n",
        "156 70118360102607\n",
        "157 70171890819408\n",
        "158 70225460974161\n",
        "159 70259840730405\n",
        "160 70311861936521\n",
        "161 70369027326245\n",
        "162"
       ]
      },
      {
       "output_type": "stream",
       "stream": "stdout",
       "text": [
        " 70422347307315\n",
        "163 70463358792608\n",
        "164 70506415334261\n",
        "165 70560187547795\n",
        "166 70614477397165\n",
        "167 70660609372718\n",
        "168 70716046844854\n",
        "169 70771466684867\n",
        "170 70827111399073\n",
        "171 70880433312611\n",
        "172"
       ]
      },
      {
       "output_type": "stream",
       "stream": "stdout",
       "text": [
        " 70936093589472\n",
        "173 70992275114599\n",
        "174 71047941547468\n",
        "175 71103070723002\n",
        "176 71106384571350\n"
       ]
      }
     ],
     "prompt_number": 12
    },
    {
     "cell_type": "code",
     "collapsed": false,
     "input": [
      "r = common_crawl.tally_results(jids,local=False)"
     ],
     "language": "python",
     "metadata": {},
     "outputs": [],
     "prompt_number": 13
    },
    {
     "cell_type": "code",
     "collapsed": false,
     "input": [
      "r['count'], r['size'], r['runtime'], r['cost']"
     ],
     "language": "python",
     "metadata": {},
     "outputs": [
      {
       "output_type": "pyout",
       "prompt_number": 14,
       "text": [
        "({'arc.gz': 856589,\n",
        "  'metadata': 341517,\n",
        "  'other': 17,\n",
        "  'success': 71,\n",
        "  'textData': 341525},\n",
        " {'arc.gz': 71106384571350L,\n",
        "  'metadata': 11010558690874L,\n",
        "  'other': 1626219,\n",
        "  'success': 0,\n",
        "  'textData': 6978342039325L},\n",
        " 1345.4401160000002,\n",
        " 0.018686668277777783)"
       ]
      }
     ],
     "prompt_number": 14
    },
    {
     "cell_type": "code",
     "collapsed": false,
     "input": [
      "plot(r[\"cores_vs_time_x\"], r[\"cores_vs_time_y\"])"
     ],
     "language": "python",
     "metadata": {},
     "outputs": [
      {
       "output_type": "pyout",
       "prompt_number": 15,
       "text": [
        "[<matplotlib.lines.Line2D at 0x54dcc10>]"
       ]
      },
      {
       "output_type": "display_data",
       "png": "[encoded data removed]"
      }
     ],
     "prompt_number": 15
    },
    {
     "cell_type": "code",
     "collapsed": false,
     "input": [],
     "language": "python",
     "metadata": {},
     "outputs": []
    }
   ],
   "metadata": {}
  }
 ]
}