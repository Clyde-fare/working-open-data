{
 "metadata": {
  "name": "Day_25_Project_Scheduling"
 },
 "nbformat": 3,
 "nbformat_minor": 0,
 "worksheets": [
  {
   "cells": [
    {
     "cell_type": "code",
     "collapsed": false,
     "input": [
      "import random\n",
      "random.seed()\n",
      "# random.getstate()"
     ],
     "language": "python",
     "metadata": {},
     "outputs": [],
     "prompt_number": 23
    },
    {
     "cell_type": "code",
     "collapsed": false,
     "input": [
      "projects = ['Health Care Treatment or Prevention?  An Environmental Outlook',\n",
      "'The League of Champions',\n",
      "'World Bank Data : Projects and Operations',\n",
      "'All about TED',\n",
      "'Education First',\n",
      "'Dr. Book - Linking a Book to Open Data Sources',\n",
      "'Book Hunters',\n",
      "'Stock Performance of Product Releases']\n"
     ],
     "language": "python",
     "metadata": {},
     "outputs": [],
     "prompt_number": 24
    },
    {
     "cell_type": "code",
     "collapsed": false,
     "input": [
      "# every time you run this, you get a new permutation\n",
      "# I did it a few time and stopped at random to get the following permutation\n",
      "\n",
      "random.shuffle(projects)\n",
      "projects"
     ],
     "language": "python",
     "metadata": {},
     "outputs": [
      {
       "output_type": "pyout",
       "prompt_number": 68,
       "text": [
        "['Stock Performance of Product Releases',\n",
        " 'Education First',\n",
        " 'World Bank Data : Projects and Operations',\n",
        " 'The League of Champions',\n",
        " 'Dr. Book - Linking a Book to Open Data Sources',\n",
        " 'All about TED',\n",
        " 'Book Hunters',\n",
        " 'Health Care Treatment or Prevention?  An Environmental Outlook']"
       ]
      }
     ],
     "prompt_number": 68
    },
    {
     "cell_type": "code",
     "collapsed": false,
     "input": [
      "print \"(Day 27) Tuesday April 30\"\n",
      "for (i, p) in enumerate(projects[0:4]):\n",
      "    print i+1, p\n",
      "print \n",
      "print \"(Day 28) Thursday May 2\"\n",
      "for (i, p) in enumerate(projects[4:8]):\n",
      "    print i+1, p"
     ],
     "language": "python",
     "metadata": {},
     "outputs": [
      {
       "output_type": "stream",
       "stream": "stdout",
       "text": [
        "(Day 27) Tuesday April 30\n",
        "1 Stock Performance of Product Releases\n",
        "2 Education First\n",
        "3 World Bank Data : Projects and Operations\n",
        "4 The League of Champions\n",
        "\n",
        "(Day 28) Thursday May 2\n",
        "1 Dr. Book - Linking a Book to Open Data Sources\n",
        "2 All about TED\n",
        "3 Book Hunters\n",
        "4 Health Care Treatment or Prevention?  An Environmental Outlook\n"
       ]
      }
     ],
     "prompt_number": 82
    }
   ],
   "metadata": {}
  }
 ]
}